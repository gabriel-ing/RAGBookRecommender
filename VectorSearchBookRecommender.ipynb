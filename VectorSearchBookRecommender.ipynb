{
 "cells": [
  {
   "cell_type": "markdown",
   "id": "e52dae3c-7d19-42df-a978-5563740d2a8c",
   "metadata": {},
   "source": [
    "# Building a book recommendation system with IRIS - Vector Search"
   ]
  },
  {
   "cell_type": "code",
   "execution_count": 6,
   "id": "f4a1841b-2d3a-44ec-aae7-d6fff6ef239e",
   "metadata": {},
   "outputs": [],
   "source": [
    "import os \n",
    "import time"
   ]
  },
  {
   "cell_type": "code",
   "execution_count": 3,
   "id": "99f2fe2a-9d8b-4289-9927-a2acf87ef0a4",
   "metadata": {},
   "outputs": [
    {
     "name": "stdout",
     "output_type": "stream",
     "text": [
      "The dataset has 6810 entries.\n"
     ]
    }
   ],
   "source": [
    "import pandas as pd\n",
    "\n",
    "# Load the json file\n",
    "df = pd.read_csv('/home/irissys/Data/books.csv')\n",
    "\n",
    "# View the data\n",
    "df.head(1)\n",
    "print(f\"The dataset has {len(df)} entries.\")"
   ]
  },
  {
   "cell_type": "code",
   "execution_count": 33,
   "id": "5ae30aa9-8113-4b83-8a21-2400f1825b5e",
   "metadata": {},
   "outputs": [
    {
     "name": "stdout",
     "output_type": "stream",
     "text": [
      "After removing entries with no description, there are now 6511 entries\n"
     ]
    },
    {
     "name": "stderr",
     "output_type": "stream",
     "text": [
      "/tmp/ipykernel_8896/293644093.py:2: FutureWarning: Downcasting object dtype arrays on .fillna, .ffill, .bfill is deprecated and will change in a future version. Call result.infer_objects(copy=False) instead. To opt-in to the future behavior, set `pd.set_option('future.no_silent_downcasting', True)`\n",
      "  df = df.fillna(\"\")\n"
     ]
    }
   ],
   "source": [
    "### remove entries with no description\n",
    "df = df.fillna(\"\")\n",
    "df = df[df[\"description\"]!=\"\"& (df['description'] != None) ]\n",
    "df = df[(df['average_rating'] != '') & (df['num_pages'] != '')]\n",
    "\n",
    "df.drop(columns=[\"ratings_count\"], inplace=True)\n",
    "\n",
    "print(f\"After removing entries with no description, there are now {len(df)} entries\")"
   ]
  },
  {
   "cell_type": "markdown",
   "id": "47bfa6da-a651-43cd-9e5b-f89022f74f73",
   "metadata": {},
   "source": [
    "## Create vector embeddings of the description column\n",
    "\n",
    "To perform a vector search, we have to transform the descriptions of the books into a vector. We can do this with the sentence transformers library: "
   ]
  },
  {
   "cell_type": "code",
   "execution_count": 14,
   "id": "7f42a968-015c-4813-962b-0da1d4c0c32c",
   "metadata": {},
   "outputs": [],
   "source": [
    "from sentence_transformers import SentenceTransformer\n",
    "\n",
    "# Load a pre-trained sentence transformer model. This model's output vectors are of size 384\n",
    "\n",
    "model = SentenceTransformer('all-MiniLM-L6-v2') \n",
    "\n",
    "# Generate embeddings for all descriptions at once. Batch processing makes it faster\n",
    "embeddings = model.encode(df['description'].tolist(), normalize_embeddings=True)\n",
    "\n",
    "# Add the embeddings to the DataFrame\n",
    "df['description_vector'] = embeddings.tolist()"
   ]
  },
  {
   "cell_type": "code",
   "execution_count": 15,
   "id": "f7e7be0b-9b29-4c7b-87bc-bfbb3e34a9b1",
   "metadata": {},
   "outputs": [
    {
     "data": {
      "text/html": [
       "<div>\n",
       "<style scoped>\n",
       "    .dataframe tbody tr th:only-of-type {\n",
       "        vertical-align: middle;\n",
       "    }\n",
       "\n",
       "    .dataframe tbody tr th {\n",
       "        vertical-align: top;\n",
       "    }\n",
       "\n",
       "    .dataframe thead th {\n",
       "        text-align: right;\n",
       "    }\n",
       "</style>\n",
       "<table border=\"1\" class=\"dataframe\">\n",
       "  <thead>\n",
       "    <tr style=\"text-align: right;\">\n",
       "      <th></th>\n",
       "      <th>isbn13</th>\n",
       "      <th>isbn10</th>\n",
       "      <th>title</th>\n",
       "      <th>subtitle</th>\n",
       "      <th>authors</th>\n",
       "      <th>categories</th>\n",
       "      <th>thumbnail</th>\n",
       "      <th>description</th>\n",
       "      <th>published_year</th>\n",
       "      <th>average_rating</th>\n",
       "      <th>num_pages</th>\n",
       "      <th>description_vector</th>\n",
       "    </tr>\n",
       "  </thead>\n",
       "  <tbody>\n",
       "    <tr>\n",
       "      <th>0</th>\n",
       "      <td>9780002005883</td>\n",
       "      <td>0002005883</td>\n",
       "      <td>Gilead</td>\n",
       "      <td></td>\n",
       "      <td>Marilynne Robinson</td>\n",
       "      <td>Fiction</td>\n",
       "      <td>http://books.google.com/books/content?id=KQZCP...</td>\n",
       "      <td>A NOVEL THAT READERS and critics have been eag...</td>\n",
       "      <td>2004.0</td>\n",
       "      <td>3.85</td>\n",
       "      <td>247.0</td>\n",
       "      <td>[-0.04012785106897354, -0.0027914962265640497,...</td>\n",
       "    </tr>\n",
       "  </tbody>\n",
       "</table>\n",
       "</div>"
      ],
      "text/plain": [
       "          isbn13      isbn10   title subtitle             authors categories  \\\n",
       "0  9780002005883  0002005883  Gilead           Marilynne Robinson    Fiction   \n",
       "\n",
       "                                           thumbnail  \\\n",
       "0  http://books.google.com/books/content?id=KQZCP...   \n",
       "\n",
       "                                         description published_year  \\\n",
       "0  A NOVEL THAT READERS and critics have been eag...         2004.0   \n",
       "\n",
       "  average_rating num_pages                                 description_vector  \n",
       "0           3.85     247.0  [-0.04012785106897354, -0.0027914962265640497,...  "
      ]
     },
     "execution_count": 15,
     "metadata": {},
     "output_type": "execute_result"
    }
   ],
   "source": [
    "df.head(1)"
   ]
  },
  {
   "cell_type": "code",
   "execution_count": null,
   "id": "b1790252-931f-4756-a799-e09b872ceeda",
   "metadata": {},
   "outputs": [],
   "source": []
  },
  {
   "cell_type": "markdown",
   "id": "c3036bbd-b5b2-4709-a13a-1cd67b17aa5f",
   "metadata": {},
   "source": [
    "# Build the IRIS-SQL table\n",
    "\n",
    "This is where my application devitates from the hackathon demo. For some reason I could not get the IRIS-Python DB API to work at all (I can share more details) so this is the workaround I came to: "
   ]
  },
  {
   "cell_type": "code",
   "execution_count": 10,
   "id": "5ea9cc08-22ae-4528-8c7d-03757f235ba7",
   "metadata": {},
   "outputs": [],
   "source": [
    "import irisnative "
   ]
  },
  {
   "cell_type": "code",
   "execution_count": 11,
   "id": "58892073-91da-41de-aef6-98c0451ca70b",
   "metadata": {},
   "outputs": [],
   "source": [
    "conn = irisnative.createConnection(\"localhost\", 1972, \"USER\", \"SuperUser\", \"SYS\")\n",
    "cursor = conn.cursor()"
   ]
  },
  {
   "cell_type": "code",
   "execution_count": 21,
   "id": "4501783b-a26c-4712-a49d-03f8d4daed5a",
   "metadata": {},
   "outputs": [],
   "source": [
    "table_name = \"BookRecommender.Books\"\n",
    "\n",
    "create_table_query = f'''\n",
    "CREATE TABLE {table_name} (\n",
    "  isbn13     VARCHAR(32),\n",
    "  isbn10        VARCHAR(32),\n",
    "  title          VARCHAR(1024) NOT NULL,\n",
    "  subtitle            VARCHAR(1024),\n",
    "  authors    VARCHAR(255),\n",
    "  categories     VARCHAR(1024),\n",
    "  thumbnail        VARCHAR(1024),\n",
    "  description       LONGVARCHAR,\n",
    "  published_year    INTEGER,\n",
    "  average_rating    DOUBLE,\n",
    "  num_pages     INTEGER ,\n",
    "  description_vector   VECTOR(DOUBLE, 384)\n",
    ")\n",
    "\n",
    "'''"
   ]
  },
  {
   "cell_type": "code",
   "execution_count": 37,
   "id": "b476a277-532c-4343-964c-15e861ec2596",
   "metadata": {},
   "outputs": [
    {
     "data": {
      "text/plain": [
       "0"
      ]
     },
     "execution_count": 37,
     "metadata": {},
     "output_type": "execute_result"
    }
   ],
   "source": [
    "cursor.execute(create_table_query)"
   ]
  },
  {
   "cell_type": "code",
   "execution_count": 36,
   "id": "0f0b553f-a331-41da-88c0-8b46e8466ac3",
   "metadata": {},
   "outputs": [
    {
     "data": {
      "text/plain": [
       "0"
      ]
     },
     "execution_count": 36,
     "metadata": {},
     "output_type": "execute_result"
    }
   ],
   "source": [
    "### In case a reset is needed!\n",
    "cursor.execute(f\"Drop TABLE {table_name}\" )"
   ]
  },
  {
   "cell_type": "code",
   "execution_count": 28,
   "id": "762bf48f-0655-4fa8-ad77-042268f601d4",
   "metadata": {},
   "outputs": [
    {
     "name": "stdout",
     "output_type": "stream",
     "text": [
      "isbn13, isbn10, title, subtitle, authors, categories, thumbnail, description, published_year, average_rating, num_pages, description_vector\n",
      "isbn13'], row['isbn10'], row['title'], row['subtitle'], row['authors'], row['categories'], row['thumbnail'], row['description'], row['published_year'], row['average_rating'], row['num_pages'], row['description_vector\n"
     ]
    }
   ],
   "source": [
    "print(\", \".join(list(df.columns)))\n",
    "print(\"'], row['\".join(list(df.columns)))\n"
   ]
  },
  {
   "cell_type": "code",
   "execution_count": 34,
   "id": "5bd958de-c265-47d6-a5c6-ae3637584ab8",
   "metadata": {},
   "outputs": [],
   "source": [
    "df = df[(df['average_rating'] != '') & (df['num_pages'] != '')]\n"
   ]
  },
  {
   "cell_type": "code",
   "execution_count": 38,
   "id": "d39210df-003b-45a3-ba43-47640a038789",
   "metadata": {},
   "outputs": [
    {
     "data": {
      "text/plain": [
       "0       None\n",
       "1       None\n",
       "2       None\n",
       "3       None\n",
       "4       None\n",
       "        ... \n",
       "6803    None\n",
       "6804    None\n",
       "6805    None\n",
       "6808    None\n",
       "6809    None\n",
       "Length: 6511, dtype: object"
      ]
     },
     "execution_count": 38,
     "metadata": {},
     "output_type": "execute_result"
    }
   ],
   "source": [
    "def add_row(row):\n",
    "    sql = f'Insert into {table_name} (isbn13, isbn10, title, subtitle, authors, categories, thumbnail, description, published_year, average_rating, num_pages, description_vector) values (?,?,?,?,?,?,?,?,?,?,?,TO_VECTOR(?))'\n",
    "    values = [row['isbn13'], row['isbn10'], row['title'], row['subtitle'], row['authors'], row['categories'], row['thumbnail'], row['description'], row['published_year'], row['average_rating'], row['num_pages'], str(row['description_vector'])]\n",
    "    try:\n",
    "        cursor.execute(sql, values)\n",
    "    except:\n",
    "        pass\n",
    "df.apply(add_row, axis=1)"
   ]
  },
  {
   "cell_type": "markdown",
   "id": "c757f943-da1e-4f10-92b8-e5fb2e6affd8",
   "metadata": {},
   "source": [
    "## Vector Search \n"
   ]
  },
  {
   "cell_type": "code",
   "execution_count": 64,
   "id": "f9cc965a-30ed-464b-9717-8e254f55525f",
   "metadata": {},
   "outputs": [],
   "source": [
    "user_prompt = \"Recommend me a book about the mafia\"\n",
    "search_vector =  model.encode(user_prompt, normalize_embeddings=True).tolist() \n",
    "\n",
    "num_results = 3\n",
    "minimum_rating = 4"
   ]
  },
  {
   "cell_type": "code",
   "execution_count": 75,
   "id": "6fb942a2-7a8d-4623-ac84-a8f734ebe585",
   "metadata": {},
   "outputs": [],
   "source": [
    "def vector_search(user_prompt,num_results = 3):\n",
    "    search_vector =  model.encode(user_prompt, normalize_embeddings=True).tolist() \n",
    "    \n",
    "    searchSQL = f\"\"\"\n",
    "        SELECT TOP ? title, authors, average_rating, description, categories\n",
    "        FROM {table_name}\n",
    "        ORDER BY VECTOR_COSINE(description_vector, TO_VECTOR(?,double)) DESC\n",
    "    \"\"\"\n",
    "    cursor.execute(searchSQL,[num_results,str(search_vector)])\n",
    "    \n",
    "    results = cursor.fetchall()\n",
    "    return results"
   ]
  },
  {
   "cell_type": "code",
   "execution_count": 66,
   "id": "bd2b6407-4008-4a0d-b16d-aaf64fe965fe",
   "metadata": {},
   "outputs": [
    {
     "data": {
      "text/plain": [
       "[Row(title='The Gangs of New York', authors='Herbert Asbury', average_rating=3.59, description='The Gangs of New York is a tour through a now unrecognisable city of abysmal poverty and habitual violence cobbled from legend, memory, police records, the self-aggrandizements of aging crooks, popular journalism, and solid historical research. Asbury presents the definitive work on this subject, an illumination of the gangs of old New York that ultimately gave rise to the modem Mafia and its depiction in films like The Godfather.'),\n",
       " Row(title='The Godfather', authors='Mario Puzo', average_rating=4.37, description='A portrait of a Mafia family focuses on the life and times of patriarch Don Vito Corleone, a Sicilian-American godfather, and his sons.'),\n",
       " Row(title='Organized Crime', authors='Michael D. Lyman;Gary W. Potter', average_rating=3.83, description='Dispelling current myths regarding organized crime, Lyman and Potter’s fourth edition reveals a truer picture of organized crime and criminal activity today. Providing scholarly treatment and a social perspective, the authors explore the concept of organized crime, the historical foundation for its evolution and development, and the current status of criminal groups in today’s society. Offering timely and respected research, this edition includes a thorough examination of drug trafficking, new sections on emerging organized crime groups, updated case studies, more coverage international groups, updated statistics, graphics and more! Presents a broad view of organized crime that incorporates more than just ethnically- driven, pop-culture stereotypes. Incorporates two parallel themes—organized crime consists of many different groups and corrupt individuals in public office, business etc., contribute to the continuation of the problem. Uses thematic questions (What is organized crime? Is there really a Mafia? Is terrorism organized crime? Do political machines still exist?) to promote higher-order thinking skills and a critical examination of the topic. Synthesizes volumes of historical data and archives to present the most salient aspects of the organized crime problem. References information and reports generated by the Federal Bureau of Investigation, the Pennsylvania Crime Commission, the National Institute of Justice, the Bureau of Justice Statistics and well-known researchers in the field. Law enforcement professionals and those interested in a scholarly treatment and a social perspective of organized crime.')]"
      ]
     },
     "execution_count": 66,
     "metadata": {},
     "output_type": "execute_result"
    }
   ],
   "source": [
    "results"
   ]
  },
  {
   "cell_type": "markdown",
   "id": "2e816896-99de-4d68-b0d9-20fdcfe4f1a2",
   "metadata": {},
   "source": [
    "## Creating the Text model response\n",
    "\n",
    "Here I am using a basic text-generation model which is locally downloaded. I am doing this because it is free, but another model would be better for more formal uses. "
   ]
  },
  {
   "cell_type": "code",
   "execution_count": 67,
   "id": "05e91427-0934-4704-9da7-d77e215d3050",
   "metadata": {},
   "outputs": [
    {
     "name": "stderr",
     "output_type": "stream",
     "text": [
      "Device set to use cpu\n"
     ]
    }
   ],
   "source": [
    "from transformers import pipeline\n",
    "text_model = pipeline(task=\"text-generation\", model=\"Qwen/Qwen2.5-1.5B-Instruct\")"
   ]
  },
  {
   "cell_type": "code",
   "execution_count": null,
   "id": "bb636c86-dcf0-4fb7-8d27-321ce6efe955",
   "metadata": {},
   "outputs": [],
   "source": [
    "def text_model_query(user_prompt, results ):\n",
    "    text_model = pipeline(task=\"text-generation\", model=\"Qwen/Qwen2.5-1.5B-Instruct\")\n",
    "    system_query = \"\"\"Answer the following prompt using the search results provided below. \n",
    "    Do not refer to the search itself, but use the results. If none of these results seem to be a good fit, say so.  \"\"\"\n",
    "    results_string = \"Search Results: \"+str(results)\n",
    " \n",
    "    model_query =  system_query + results_string + \"Chat prompt: What kind of book would you like? User prompt: \" + user_prompt  + \"///ENDPROMPT\"\n",
    "    output = text_model(model_query)\n",
    "\n",
    "    response = output[0][\"generated_text\"].split(\"///ENDPROMPT\")[1]\n",
    "    \n",
    "    return response"
   ]
  },
  {
   "cell_type": "code",
   "execution_count": 69,
   "id": "aaf038d5-3cf3-43aa-936d-65f3d6a42be8",
   "metadata": {},
   "outputs": [
    {
     "data": {
      "text/plain": [
       "'\\nBased on the provided search results:\\n\\n1. \"The Gangs of New York\" by Herbert Asbury - This book provides a detailed look at the history of the Italian-American Mafia, presented as a series of legends, memories, and factual accounts.\\n2. \"The Godfather\" by Mario Puzo - A novel focusing on the life of Don Vito Corleone and his family, exploring the dynamics within the Mafia family.\\n\\nGiven your user prompt which specifically asks for a book about the Mafia, both of these options appear relevant and could be considered suitable recommendations. However, if you have any preferences or specific interests within the broader context of organized crime or related topics, please let me know! \\n\\nFor example:\\n- You might prefer a historical account,\\n- Or perhaps one with more focus on contemporary issues rather than past events.\\n\\nWithout additional guidance, I would suggest either \"The Gangs of New York\" or \"The Godfather,\" depending on your preference between historical detail versus fictional storytelling. \\n\\nWould you like more details on these books, or do you need further assistance? Let me know how you\\'d like to proceed! 📚🔍\\n\\nIf no other result fits better, here\\'s what we can conclude based solely on the given search results:\\n**'"
      ]
     },
     "execution_count": 69,
     "metadata": {},
     "output_type": "execute_result"
    }
   ],
   "source": [
    "# query_model(user_prompt, results)"
   ]
  },
  {
   "cell_type": "code",
   "execution_count": 83,
   "id": "fceccd9d-60b4-480a-9e44-5cb2b0c94f01",
   "metadata": {},
   "outputs": [],
   "source": [
    "def rag_chatbot():\n",
    "    user_input = input(\"What kind of book would you like? \\n\")\n",
    "    search_results = vector_search(user_input)\n",
    "    output = text_model_query(user_input, search_results)\n",
    "    print(output)"
   ]
  },
  {
   "cell_type": "code",
   "execution_count": 84,
   "id": "c62b4794-40dd-4157-90cc-8cd1c949e4a1",
   "metadata": {},
   "outputs": [
    {
     "name": "stdout",
     "output_type": "stream",
     "text": [
      "What kind of book would you like? \n",
      " A book about dragons\n"
     ]
    },
    {
     "name": "stderr",
     "output_type": "stream",
     "text": [
      "Device set to use cpu\n"
     ]
    },
    {
     "name": "stdout",
     "output_type": "stream",
     "text": [
      " The search results provide several options for books related to dragons:\n",
      "\n",
      "1. \"The Search for Power\" by Margaret Weis - This is an anthology of short fiction that explores the world of Krynn's diverse dragons and the characters who interact with them.\n",
      "\n",
      "2. \"Dragonology\" by Ernest Drake - This juvenile non-fiction book offers an introduction to dragonology, including how to catch dragons, details about their natural history, and accounts of legendary dragons and those involved in studying them.\n",
      "\n",
      "3. \"The Book of the Dragon\" by unknown author(s) - This fictional work features illustrations of dragons alongside detailed information on various aspects of fantasy creatures, such as their cultures and customs, legends, and types of dragons.\n",
      "\n",
      "Given your interest in dragons, I recommend reading either \"The Search for Power\" or \"The Book of the Dragon.\" Both are suitable choices based on your request. However, if you're looking for something more focused on learning about dragons from a scientific perspective, \"Dragonology\" might be the better choice due to its comprehensive coverage of dragon-related topics. \n",
      "\n",
      "If you prefer a mix of fiction and factual information, then \"The Search for Power\" could also serve well, though it leans towards the fantastical side of dragon lore. Ultimately, any of these books\n"
     ]
    }
   ],
   "source": [
    "rag_chatbot()"
   ]
  }
 ],
 "metadata": {
  "kernelspec": {
   "display_name": "Python 3 (ipykernel)",
   "language": "python",
   "name": "python3"
  },
  "language_info": {
   "codemirror_mode": {
    "name": "ipython",
    "version": 3
   },
   "file_extension": ".py",
   "mimetype": "text/x-python",
   "name": "python",
   "nbconvert_exporter": "python",
   "pygments_lexer": "ipython3",
   "version": "3.12.3"
  }
 },
 "nbformat": 4,
 "nbformat_minor": 5
}
